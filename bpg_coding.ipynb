{
 "cells": [
  {
   "cell_type": "code",
   "execution_count": 1,
   "metadata": {},
   "outputs": [],
   "source": [
    "from natsort import natsorted\n",
    "from skimage.measure import compare_psnr\n",
    "import os\n",
    "import glob\n",
    "import subprocess\n",
    "import imageio\n",
    "import numpy as np\n",
    "import math\n",
    "import matplotlib.pyplot as plt\n",
    "\n",
    "import cv2\n"
   ]
  },
  {
   "cell_type": "code",
   "execution_count": null,
   "metadata": {},
   "outputs": [],
   "source": [
    "def MSE(gt,pred):\n",
    "    mse = np.mean((gt-pred)**2)\n",
    "    return mse\n",
    "\n",
    "def PSNR(mse,data_range):\n",
    "    psnr = 10*np.log10((data_range**2)/mse)\n",
    "    return psnr"
   ]
  },
  {
   "cell_type": "code",
   "execution_count": null,
   "metadata": {},
   "outputs": [],
   "source": [
    "import pathlib\n",
    "pathlib.Path().absolute()\n"
   ]
  },
  {
   "cell_type": "code",
   "execution_count": null,
   "metadata": {},
   "outputs": [],
   "source": [
    "images = natsorted(glob.glob(\"Images/*.png\"))"
   ]
  },
  {
   "cell_type": "code",
   "execution_count": null,
   "metadata": {},
   "outputs": [],
   "source": [
    "# ENCODING\n",
    "\n",
    "qp = '25'\n",
    "c = 'ycbcr'\n",
    "f = '444'\n",
    "m = '5'\n",
    "\n",
    "command_base = \"bpgenc.exe\"\n",
    "os.makedirs(\"compressed_streams_qp\"+qp, exist_ok=True)\n",
    "d = 0\n",
    "for im in images:\n",
    "    o = \"compressed_streams_qp\"+qp+\"/\"+str(d)+\".bpg\"\n",
    "    command = command_base+\" -o \"+o+\" -q \"+qp+\" -c\"+c+\" -f\"+f+\" -m \"+m+\" \"+im\n",
    "    \n",
    "    os.system(command)\n",
    "    \n",
    "    d += 1\n"
   ]
  },
  {
   "cell_type": "code",
   "execution_count": null,
   "metadata": {},
   "outputs": [],
   "source": [
    "# DECODING\n",
    "\n",
    "command_base = \"bpgdec.exe\"\n",
    "os.makedirs(\"decompressed_qp\"+qp, exist_ok=True)\n",
    "bit_streams = natsorted(glob.glob(\"compressed_streams_qp\"+qp+\"/*.bpg\"))\n",
    "\n",
    "d = 0\n",
    "for stream in bit_streams:\n",
    "    o = \"decompressed_qp\"+qp+\"/\"+str(d)+\".png\"\n",
    "    command = command_base+\" -o \"+o+\" \"+stream\n",
    "    \n",
    "    os.system(command)\n",
    "    \n",
    "    d += 1\n",
    "\n",
    "    \n"
   ]
  },
  {
   "cell_type": "code",
   "execution_count": null,
   "metadata": {},
   "outputs": [],
   "source": [
    "# BPP vs PSNR\n",
    "\n",
    "bit_stream = natsorted(glob.glob(\"compressed_streams_qp\"+qp+\"/*.bpg\"))\n",
    "real_images = natsorted(glob.glob(\"Images/*.png\"))\n",
    "pred_images = natsorted(glob.glob(\"decompressed_qp\"+qp+\"/*.png\"))\n",
    "\n",
    "total_mse = 0\n",
    "total_size = 0\n",
    "total_pixel = 0\n",
    "\n",
    "\n",
    "for j in range(len(pred_images)):\n",
    "    size = os.path.getsize(bit_stream[j])*8\n",
    "    total_size += size\n",
    "    \n",
    "    \n",
    "\n",
    "    real = imageio.imread(real_images[j]).astype(np.float32)\n",
    "    pred = imageio.imread(pred_images[j]).astype(np.float32)\n",
    "\n",
    "    \n",
    "    mse = MSE(real, pred)\n",
    "    total_mse += mse\n",
    "    \n",
    "    total_pixel += np.size(real)\n",
    "\n",
    "avg_mse = total_mse / len(bit_stream)\n",
    "\n",
    "psnr = PSNR(avg_mse, 255.0)\n",
    "bpp = total_size / total_pixel\n",
    "\n",
    "avg_mse"
   ]
  },
  {
   "cell_type": "code",
   "execution_count": null,
   "metadata": {},
   "outputs": [],
   "source": [
    "bpp"
   ]
  },
  {
   "cell_type": "code",
   "execution_count": null,
   "metadata": {},
   "outputs": [],
   "source": [
    "psnr"
   ]
  },
  {
   "cell_type": "code",
   "execution_count": 6,
   "metadata": {},
   "outputs": [],
   "source": [
    "psnr_list420 = [35.227795481238687, 31.891044423930836, 28.89077154624394]\n",
    "bpp_list420 = [0.39482421875, 0.23285546875, 0.12584071180555556]"
   ]
  },
  {
   "cell_type": "code",
   "execution_count": 7,
   "metadata": {},
   "outputs": [],
   "source": [
    "psnr_list444 = [36.152924594159963, 32.468408705807029, 29.153698895503798]\n",
    "bpp_list444 = [0.42736284722222223, 0.24778342013888888, 0.13103385416666666]"
   ]
  },
  {
   "cell_type": "code",
   "execution_count": 8,
   "metadata": {},
   "outputs": [],
   "source": [
    "psnr_listcnn = [31.558169529460372, 31.648169529460372]\n",
    "bpp_listcnn = [0.27496614583333334, 0.24796614583333334]"
   ]
  },
  {
   "cell_type": "code",
   "execution_count": 9,
   "metadata": {},
   "outputs": [
    {
     "data": {
      "image/png": "[encoded data removed]",
      "text/plain": [
       "<matplotlib.figure.Figure at 0x2839bb8eda0>"
      ]
     },
     "metadata": {
      "needs_background": "light"
     },
     "output_type": "display_data"
    }
   ],
   "source": [
    "plt.plot(bpp_list420, psnr_list420, color=\"b\", label=\"BPG 420\")\n",
    "plt.plot(bpp_list444, psnr_list444, color=\"r\", label=\"BPG 444\")\n",
    "plt.plot(bpp_listcnn, psnr_listcnn, color=\"g\", marker=\"*\", label=\"CNN\")\n",
    "plt.grid()\n",
    "plt.xlabel(\"bpp\")\n",
    "plt.ylabel(\"PSNR\")\n",
    "plt.legend()\n",
    "plt.savefig(\"bpp_psnr.png\")"
   ]
  },
  {
   "cell_type": "code",
   "execution_count": null,
   "metadata": {},
   "outputs": [],
   "source": []
  }
 ],
 "metadata": {
  "kernelspec": {
   "display_name": "Python 3",
   "language": "python",
   "name": "python3"
  },
  "language_info": {
   "codemirror_mode": {
    "name": "ipython",
    "version": 3
   },
   "file_extension": ".py",
   "mimetype": "text/x-python",
   "name": "python",
   "nbconvert_exporter": "python",
   "pygments_lexer": "ipython3",
   "version": "3.5.5"
  }
 },
 "nbformat": 4,
 "nbformat_minor": 2
}
